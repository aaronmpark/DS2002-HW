{
 "cells": [
  {
   "cell_type": "code",
   "execution_count": 1,
   "id": "5c2dc5aa-cc4b-4a8d-b3e3-0f44c9aab46a",
   "metadata": {},
   "outputs": [
    {
     "name": "stdout",
     "output_type": "stream",
     "text": [
      "connected\n"
     ]
    }
   ],
   "source": [
    "import sqlite3\n",
    "\n",
    "connection = sqlite3.connect('student_grades.db')\n",
    "\n",
    "print(\"connected\")"
   ]
  },
  {
   "cell_type": "code",
   "execution_count": 2,
   "id": "7abac7b1-5cdf-43c5-97e7-099991d7ddd1",
   "metadata": {},
   "outputs": [
    {
     "name": "stdout",
     "output_type": "stream",
     "text": [
      "Cursor created!\n"
     ]
    }
   ],
   "source": [
    "# Create a cursor object\n",
    "cursor = connection.cursor()\n",
    "\n",
    "# Explanation\n",
    "print(\"Cursor created!\")"
   ]
  },
  {
   "cell_type": "code",
   "execution_count": 3,
   "id": "9b674a67-7b05-4a3a-b9bb-0818a9b8f3fb",
   "metadata": {},
   "outputs": [
    {
     "name": "stdout",
     "output_type": "stream",
     "text": [
      "Students table created!\n"
     ]
    }
   ],
   "source": [
    "# Create the Students table\n",
    "cursor.execute('''\n",
    "CREATE TABLE IF NOT EXISTS students (\n",
    "    student_id INTEGER PRIMARY KEY AUTOINCREMENT,\n",
    "    first_name TEXT,\n",
    "    last_name TEXT\n",
    ")\n",
    "''')\n",
    "\n",
    "print(\"Students table created!\")"
   ]
  },
  {
   "cell_type": "code",
   "execution_count": 4,
   "id": "d3ccef40-1ea8-4de3-a9ea-e42239c8411f",
   "metadata": {},
   "outputs": [
    {
     "name": "stdout",
     "output_type": "stream",
     "text": [
      "Grades table created!\n"
     ]
    }
   ],
   "source": [
    "# Create the Grades table\n",
    "cursor.execute('''\n",
    "CREATE TABLE IF NOT EXISTS grades (\n",
    "    grade_id INTEGER PRIMARY KEY AUTOINCREMENT,\n",
    "    student_id INTEGER,\n",
    "    subject TEXT,\n",
    "    grade INTEGER,\n",
    "    FOREIGN KEY (student_id) REFERENCES students(student_id)\n",
    "\n",
    ")\n",
    "''')\n",
    "\n",
    "print(\"Grades table created!\")"
   ]
  },
  {
   "cell_type": "code",
   "execution_count": 5,
   "id": "68ea52d9-499e-4294-b1f5-e03d047eaa07",
   "metadata": {},
   "outputs": [
    {
     "name": "stdout",
     "output_type": "stream",
     "text": [
      "Data inserted into the students and grades tables!\n"
     ]
    }
   ],
   "source": [
    "# Insert values into Tables\n",
    "\n",
    "student_data = [\n",
    "    (1, \"Alice\", \"Johnson\"),\n",
    "    (2, \"Bob\", \"Smith\"),\n",
    "    (3, \"Carol\", \"White\"),\n",
    "    (4, \"David\", \"Brown\"),\n",
    "    (5, \"Eve\", \"Davis\")\n",
    "]\n",
    "\n",
    "grade_data = [\n",
    "    (1, 1, \"Math\", 95),\n",
    "    (2, 1, \"English\", 88),\n",
    "    (3, 1, \"History\", 90),\n",
    "    (4, 2, \"Math\", 82),\n",
    "    (5, 2, \"English\", 76),\n",
    "    (6, 2, \"History\", 85),\n",
    "    \n",
    "    (7, 3, \"Math\", 85),\n",
    "    (8, 3, \"English\", 67),\n",
    "    (9, 3, \"History\", 95),\n",
    "    (10, 4, \"Math\", 98),\n",
    "    (11, 4, \"English\", 70),\n",
    "    (12, 4, \"History\", 80),\n",
    "    (13, 5, \"Math\", 78),\n",
    "    (14, 5, \"English\", 91),\n",
    "    (15, 5, \"History\", 89)\n",
    "]\n",
    "\n",
    "# Insert data into the table\n",
    "cursor.executemany('''\n",
    "INSERT INTO students (student_id, first_name, last_name) VALUES (?, ?, ?)\n",
    "''', student_data)\n",
    "\n",
    "# Commit the transaction\n",
    "connection.commit()\n",
    "\n",
    "cursor.executemany('''\n",
    "INSERT INTO grades (grade_id, student_id, subject, grade) VALUES (?, ?, ?, ?)\n",
    "''', grade_data)\n",
    "\n",
    "connection.commit()\n",
    "\n",
    "print(\"Data inserted into the students and grades tables!\")"
   ]
  },
  {
   "cell_type": "code",
   "execution_count": 6,
   "id": "4a84e664-1298-4968-9605-b62e82cdbb28",
   "metadata": {},
   "outputs": [
    {
     "name": "stdout",
     "output_type": "stream",
     "text": [
      "All students and their grades:\n",
      "('Alice', 'Johnson', 'Math', 95)\n",
      "('Alice', 'Johnson', 'English', 88)\n",
      "('Alice', 'Johnson', 'History', 90)\n",
      "('Bob', 'Smith', 'Math', 82)\n",
      "('Bob', 'Smith', 'English', 76)\n",
      "('Bob', 'Smith', 'History', 85)\n",
      "('Carol', 'White', 'Math', 85)\n",
      "('Carol', 'White', 'English', 67)\n",
      "('Carol', 'White', 'History', 95)\n",
      "('David', 'Brown', 'Math', 98)\n",
      "('David', 'Brown', 'English', 70)\n",
      "('David', 'Brown', 'History', 80)\n",
      "('Eve', 'Davis', 'Math', 78)\n",
      "('Eve', 'Davis', 'English', 91)\n",
      "('Eve', 'Davis', 'History', 89)\n"
     ]
    }
   ],
   "source": [
    "# Fetch all data from the students and grades table\n",
    "cursor.execute(\"\"\"\n",
    "SELECT students.first_name, students.last_name, grades.subject, grades.grade FROM students\n",
    "    JOIN grades ON students.student_id = grades.student_id\n",
    "\"\"\")\n",
    "rows = cursor.fetchall()\n",
    "\n",
    "# Print the results\n",
    "print(\"All students and their grades:\")\n",
    "for row in rows:\n",
    "    print(row)"
   ]
  },
  {
   "cell_type": "code",
   "execution_count": 7,
   "id": "ae928dce-d771-4c20-8697-736a820d84d9",
   "metadata": {},
   "outputs": [
    {
     "name": "stdout",
     "output_type": "stream",
     "text": [
      "All students and their average grades:\n",
      "('Alice', 'Johnson', 91.0)\n",
      "('Bob', 'Smith', 81.0)\n",
      "('Carol', 'White', 82.33333333333333)\n",
      "('David', 'Brown', 82.66666666666667)\n",
      "('Eve', 'Davis', 86.0)\n"
     ]
    }
   ],
   "source": [
    "# Find the average grade for each student\n",
    "\n",
    "cursor.execute(\"\"\"\n",
    "SELECT students.first_name, students.last_name, AVG(grades.grade) FROM students\n",
    "JOIN grades ON students.student_id = grades.student_id\n",
    "GROUP BY students.student_id\n",
    "\"\"\")\n",
    "rows2 = cursor.fetchall()\n",
    "\n",
    "# Print\n",
    "print(\"All students and their average grades:\")\n",
    "for row in rows2:\n",
    "    print(row)\n"
   ]
  },
  {
   "cell_type": "code",
   "execution_count": 8,
   "id": "e956a353-912c-4aaa-8d5b-63bb31273794",
   "metadata": {},
   "outputs": [
    {
     "name": "stdout",
     "output_type": "stream",
     "text": [
      "Student with highest average grade:\n",
      "('Alice', 'Johnson', 91.0)\n"
     ]
    }
   ],
   "source": [
    "# Find the student with the highest average grade\n",
    "\n",
    "cursor.execute(\"\"\"\n",
    "SELECT students.first_name, students.last_name, AVG(grades.grade) FROM students\n",
    "JOIN grades ON students.student_id = grades.student_id\n",
    "GROUP BY students.student_id\n",
    "\"\"\")\n",
    "rows3 = cursor.fetchone()\n",
    "\n",
    "# Print\n",
    "print(\"Student with highest average grade:\")\n",
    "print(rows3)"
   ]
  },
  {
   "cell_type": "code",
   "execution_count": 9,
   "id": "5298d63c-ce75-4f31-bfeb-02361eccdfd1",
   "metadata": {},
   "outputs": [
    {
     "name": "stdout",
     "output_type": "stream",
     "text": [
      "87.6\n"
     ]
    }
   ],
   "source": [
    "# Find the average grade for the Math Subject\n",
    "\n",
    "cursor.execute(\"\"\"\n",
    "SELECT AVG(grade) FROM grades where subject = \"Math\"\n",
    "\"\"\")\n",
    "\n",
    "avg_math = cursor.fetchone()[0]\n",
    "\n",
    "print(avg_math)"
   ]
  },
  {
   "cell_type": "code",
   "execution_count": 10,
   "id": "46b5085d-1340-49a0-803f-bc971f5b15de",
   "metadata": {},
   "outputs": [
    {
     "name": "stdout",
     "output_type": "stream",
     "text": [
      "('Alice', 'Johnson', 'Math', 95)\n",
      "('Carol', 'White', 'History', 95)\n",
      "('David', 'Brown', 'Math', 98)\n",
      "('Eve', 'Davis', 'English', 91)\n"
     ]
    }
   ],
   "source": [
    "# List all students who scared above 90 in ANY subject\n",
    "\n",
    "cursor.execute(\"\"\"\n",
    "SELECT students.first_name, students.last_name, grades.subject, grades.grade FROM students\n",
    "JOIN grades on students.student_id = grades.student_id\n",
    "WHERE grades.grade > 90\n",
    "\"\"\")\n",
    "\n",
    "rows4 = cursor.fetchall()\n",
    "\n",
    "for row in rows4:\n",
    "    print(row)"
   ]
  },
  {
   "cell_type": "code",
   "execution_count": 12,
   "id": "e28788ef-df52-4f3c-b757-aae6c8b3df41",
   "metadata": {},
   "outputs": [
    {
     "name": "stdout",
     "output_type": "stream",
     "text": [
      "   student_id first_name last_name\n",
      "0           1      Alice   Johnson\n",
      "1           2        Bob     Smith\n",
      "2           3      Carol     White\n",
      "3           4      David     Brown\n",
      "4           5        Eve     Davis\n",
      "    grade_id  student_id  subject  grade\n",
      "0          1           1     Math     95\n",
      "1          2           1  English     88\n",
      "2          3           1  History     90\n",
      "3          4           2     Math     82\n",
      "4          5           2  English     76\n",
      "5          6           2  History     85\n",
      "6          7           3     Math     85\n",
      "7          8           3  English     67\n",
      "8          9           3  History     95\n",
      "9         10           4     Math     98\n",
      "10        11           4  English     70\n",
      "11        12           4  History     80\n",
      "12        13           5     Math     78\n",
      "13        14           5  English     91\n",
      "14        15           5  History     89\n"
     ]
    }
   ],
   "source": [
    "# Load Data into Pandas\n",
    "import pandas as pd\n",
    "\n",
    "# Use Pandas to load the data from students and grades tables into DataFrames\n",
    "df_students = pd.read_sql('SELECT * FROM students', con=connection)\n",
    "\n",
    "print(df_students)\n",
    "\n",
    "df_grades = pd.read_sql('SELECT * FROM grades', con=connection)\n",
    "\n",
    "print (df_grades)\n"
   ]
  },
  {
   "cell_type": "code",
   "execution_count": 13,
   "id": "a2ce72e7-caf8-45b8-aa44-504d9af10d2f",
   "metadata": {},
   "outputs": [
    {
     "name": "stdout",
     "output_type": "stream",
     "text": [
      "   first_name last_name  subject  grade\n",
      "0       Alice   Johnson     Math     95\n",
      "1       Alice   Johnson  English     88\n",
      "2       Alice   Johnson  History     90\n",
      "3         Bob     Smith     Math     82\n",
      "4         Bob     Smith  English     76\n",
      "5         Bob     Smith  History     85\n",
      "6       Carol     White     Math     85\n",
      "7       Carol     White  English     67\n",
      "8       Carol     White  History     95\n",
      "9       David     Brown     Math     98\n",
      "10      David     Brown  English     70\n",
      "11      David     Brown  History     80\n",
      "12        Eve     Davis     Math     78\n",
      "13        Eve     Davis  English     91\n",
      "14        Eve     Davis  History     89\n"
     ]
    }
   ],
   "source": [
    "# Use JOIN queries to combine the data from both tables into a single DataFrame that includes each student's name, subject, and grade\n",
    "\n",
    "query = \"\"\"\n",
    "SELECT students.first_name, students.last_name, grades.subject, grades.grade FROM students\n",
    "JOIN grades on students.student_id = grades.student_id\n",
    "\"\"\"\n",
    "df_combined_data = pd.read_sql(query, con=connection)\n",
    "\n",
    "print(df_combined_data)\n"
   ]
  },
  {
   "cell_type": "code",
   "execution_count": 14,
   "id": "3c3f19d5-66e4-4440-9b9c-30f85d616a64",
   "metadata": {},
   "outputs": [
    {
     "data": {
      "image/png": "[encoded data removed]",
      "text/plain": [
       "<Figure size 1000x600 with 1 Axes>"
      ]
     },
     "metadata": {},
     "output_type": "display_data"
    },
    {
     "data": {
      "image/png": "[encoded data removed]",
      "text/plain": [
       "<Figure size 1000x600 with 1 Axes>"
      ]
     },
     "metadata": {},
     "output_type": "display_data"
    }
   ],
   "source": [
    "# Visual the data with Matplotlib\n",
    "import matplotlib.pyplot as plt\n",
    "\n",
    "df_combined_data['student_name'] = df_combined_data['first_name'] + ' ' + df_combined_data['last_name']\n",
    "average_grades = df_combined_data.groupby('student_name')['grade'].mean().reset_index()\n",
    "\n",
    "student_names = average_grades['student_name']\n",
    "average_grade = average_grades['grade']\n",
    "\n",
    "# Plotting Average grades for each student\n",
    "plt.figure(figsize=(10, 6))\n",
    "plt.bar(student_names,average_grade)\n",
    "plt.title('Average Grades for Each Student')\n",
    "plt.xlabel('Students')\n",
    "plt.ylabel('Average Grade')\n",
    "plt.show()\n",
    "\n",
    "# Plotting average grade for each student\n",
    "\n",
    "average_per_subject = df_grades.groupby('subject')['grade'].mean().reset_index()\n",
    "\n",
    "subject_names = average_per_subject['subject']\n",
    "average_subject_grade = average_per_subject['grade']\n",
    "\n",
    "plt.figure(figsize=(10,6))\n",
    "plt.bar(subject_names, average_subject_grade)\n",
    "plt.title('Average Grades for Each Subject')\n",
    "plt.xlabel('Subjects')\n",
    "plt.ylabel('Average Grade')\n",
    "plt.show()"
   ]
  },
  {
   "cell_type": "code",
   "execution_count": 15,
   "id": "a24f33b4-33cf-44d7-877b-77bc614d4dca",
   "metadata": {},
   "outputs": [
    {
     "name": "stdout",
     "output_type": "stream",
     "text": [
      "('Carol', 'White', 'History', 95)\n",
      "('David', 'Brown', 'Math', 98)\n",
      "('Eve', 'Davis', 'English', 91)\n"
     ]
    },
    {
     "data": {
      "text/plain": [
       "<Axes: xlabel='subject'>"
      ]
     },
     "execution_count": 15,
     "metadata": {},
     "output_type": "execute_result"
    },
    {
     "data": {
      "image/png": "[encoded data removed]",
      "text/plain": [
       "<Figure size 640x480 with 1 Axes>"
      ]
     },
     "metadata": {},
     "output_type": "display_data"
    }
   ],
   "source": [
    "# Bonus Tasks\n",
    "\n",
    "#Query that finds the student with the highest grade in each subject\n",
    "\n",
    "cursor.execute(\"\"\"\n",
    "SELECT students.first_name, students.last_name, grades.subject, grades.grade FROM students\n",
    "JOIN  grades ON students.student_id = grades.student_id\n",
    "JOIN ( SELECT subject, MAX(grade) AS highest_grade FROM grades \n",
    "GROUP BY subject ) \n",
    "AS max_grades ON grades.subject = max_grades.subject AND grades.grade = max_grades.highest_grade\n",
    "\"\"\")\n",
    "\n",
    "rows5 = cursor.fetchall()\n",
    "\n",
    "for row in rows5:\n",
    "    print(row)\n",
    "\n",
    "#Visualize the results using a grouped bar chart\n",
    "\n",
    "query = \"\"\"\n",
    "SELECT students.first_name, students.last_name, grades.subject, grades.grade FROM students\n",
    "JOIN  grades ON students.student_id = grades.student_id\n",
    "JOIN ( SELECT subject, MAX(grade) AS highest_grade FROM grades \n",
    "GROUP BY subject ) \n",
    "AS max_grades ON grades.subject = max_grades.subject AND grades.grade = max_grades.highest_grade\n",
    "\"\"\"\n",
    "\n",
    "df_student_highest = pd.read_sql(query, con=connection)\n",
    "df_student_highest['student_name'] = df_student_highest['first_name'] + ' ' + df_student_highest['last_name']\n",
    "df_pivot = df_student_highest.pivot(index='subject', columns='student_name', values='grade')\n",
    "\n",
    "df_pivot.plot(kind='bar')\n"
   ]
  },
  {
   "cell_type": "code",
   "execution_count": null,
   "id": "f6e3305b-eb99-4bd7-bd13-b100879c6fe8",
   "metadata": {},
   "outputs": [],
   "source": []
  }
 ],
 "metadata": {
  "kernelspec": {
   "display_name": "Python 3 (ipykernel)",
   "language": "python",
   "name": "python3"
  },
  "language_info": {
   "codemirror_mode": {
    "name": "ipython",
    "version": 3
   },
   "file_extension": ".py",
   "mimetype": "text/x-python",
   "name": "python",
   "nbconvert_exporter": "python",
   "pygments_lexer": "ipython3",
   "version": "3.11.1"
  }
 },
 "nbformat": 4,
 "nbformat_minor": 5
}
